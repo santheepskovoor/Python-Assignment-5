{
 "cells": [
  {
   "cell_type": "markdown",
   "metadata": {},
   "source": [
    "## Python Basic Programming Assignment - 5\n",
    "--------------\n"
   ]
  },
  {
   "cell_type": "markdown",
   "metadata": {},
   "source": [
    "### 1. Write a Python Program to Find LCM?"
   ]
  },
  {
   "cell_type": "code",
   "execution_count": 5,
   "metadata": {},
   "outputs": [
    {
     "name": "stdout",
     "output_type": "stream",
     "text": [
      "Enter 1st Number: 5\n",
      "Enter 2nd Number: 10\n",
      "LCM of the number is: 10\n"
     ]
    }
   ],
   "source": [
    "#Ask user to enter 2 Number to find the LCM\n",
    "a=int(input(\"Enter 1st Number: \"))\n",
    "b=int(input(\"Enter 2nd Number: \"))\n",
    "#Taking the multiple of 2 numbers and find the least common multiple with the for loop from the product of numbers.\n",
    "for m in range(1,a*b+1):\n",
    "    if m%a==0 and m%b==0:\n",
    "        print(\"LCM of the number is:\",m)\n",
    "        break\n"
   ]
  },
  {
   "cell_type": "markdown",
   "metadata": {},
   "source": [
    "### 2. Write a Python Program to Find HCF?"
   ]
  },
  {
   "cell_type": "code",
   "execution_count": 10,
   "metadata": {},
   "outputs": [
    {
     "name": "stdout",
     "output_type": "stream",
     "text": [
      "Enter 1st Number:50\n",
      "Enter 2nd Number:20\n",
      "The HCF is 10\n"
     ]
    }
   ],
   "source": [
    "a=int(input(\"Enter 1st Number:\"))\n",
    "b=int(input(\"Enter 2nd Number:\"))\n",
    "while a%b !=0:\n",
    "    rem=a%b\n",
    "    a=b\n",
    "    b=rem\n",
    "print(\"The HCF is\",b)"
   ]
  },
  {
   "cell_type": "markdown",
   "metadata": {},
   "source": [
    "### 3. Write a Python Program to Convert Decimal to Binary, Octal and Hexadecimal?"
   ]
  },
  {
   "cell_type": "code",
   "execution_count": 18,
   "metadata": {},
   "outputs": [
    {
     "name": "stdout",
     "output_type": "stream",
     "text": [
      "Enter a number: 15\n",
      "The conversion of the decimal is 15 is\n",
      "0b1111 in Binary\n",
      "0o17 in Octal\n",
      "0xf in Hexadecimal\n"
     ]
    }
   ],
   "source": [
    "number=int(input(\"Enter a number: \"))\n",
    "print(\"The conversion of the decimal is\",number,\"is\")\n",
    "#Conversion to binary\n",
    "print(bin(number),\"in Binary\")\n",
    "#conversion to Octal\n",
    "print(oct(number),\"in Octal\")\n",
    "#conversion  to hexadecimal\n",
    "print(hex(number),\"in Hexadecimal\")"
   ]
  },
  {
   "cell_type": "markdown",
   "metadata": {},
   "source": [
    "4. Write a Python Program To Find ASCII value of a character?"
   ]
  },
  {
   "cell_type": "code",
   "execution_count": 26,
   "metadata": {},
   "outputs": [
    {
     "name": "stdout",
     "output_type": "stream",
     "text": [
      "Enter a charactere\n",
      "The ASCII value of  e is 101\n"
     ]
    }
   ],
   "source": [
    "#to Convert to ASCII value we can use the inbuild function in python \"ord\"\n",
    "value=input(\"Enter a character\")\n",
    "print(\"The ASCII value of \",value, \"is\",ord(value))"
   ]
  },
  {
   "cell_type": "markdown",
   "metadata": {},
   "source": [
    "### 5. Write a Python Program to Make a Simple Calculator with 4 basic mathematical operations?"
   ]
  },
  {
   "cell_type": "code",
   "execution_count": 30,
   "metadata": {},
   "outputs": [
    {
     "name": "stdout",
     "output_type": "stream",
     "text": [
      "Enter first number:2\n",
      "Enter second number:2\n",
      "The sum of the numbes are 4\n",
      "The difference between the numbers are 0\n",
      "The multiplication of the numbers are 4\n",
      "The division of the numbers are 1.0\n"
     ]
    }
   ],
   "source": [
    "a=int(input(\"Enter first number:\"))\n",
    "b=int(input(\"Enter second number:\"))\n",
    "print(\"The sum of the numbes are\",a+b)\n",
    "print(\"The difference between the numbers are\",a-b)\n",
    "print(\"The multiplication of the numbers are\",a*b)\n",
    "print(\"The division of the numbers are\",a/b)"
   ]
  },
  {
   "cell_type": "code",
   "execution_count": null,
   "metadata": {},
   "outputs": [],
   "source": []
  }
 ],
 "metadata": {
  "kernelspec": {
   "display_name": "Python 3",
   "language": "python",
   "name": "python3"
  },
  "language_info": {
   "codemirror_mode": {
    "name": "ipython",
    "version": 3
   },
   "file_extension": ".py",
   "mimetype": "text/x-python",
   "name": "python",
   "nbconvert_exporter": "python",
   "pygments_lexer": "ipython3",
   "version": "3.8.5"
  }
 },
 "nbformat": 4,
 "nbformat_minor": 5
}
